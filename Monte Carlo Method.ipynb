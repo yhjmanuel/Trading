{
 "cells": [
  {
   "cell_type": "code",
   "execution_count": 143,
   "metadata": {},
   "outputs": [],
   "source": [
    "from abc import ABCMeta, abstractmethod\n",
    "import six\n",
    "import numpy as np\n",
    "K_INIT_LIVING_DAYS = 27375  #每个人的平均寿命期望"
   ]
  },
  {
   "cell_type": "code",
   "execution_count": 144,
   "metadata": {},
   "outputs": [],
   "source": [
    "class Person(object):\n",
    "    \"\"\"\n",
    "    人类\n",
    "    \"\"\"\n",
    "    def __init__(self):\n",
    "        self.living = K_INIT_LIVING_DAYS    #初始化人平均能活的寿命\n",
    "        self.happiness = 0                  #初始化幸福指数\n",
    "        self.wealth = 0                     #初始化财富值\n",
    "        self.fame = 0                       #初始化名望权力 \n",
    "        self.living_day = 0                 #活着的第几天\n",
    "    def live_one_day(self,seek):\n",
    "        \"\"\"\n",
    "        每天只能seek一次，这个seek决定了今天追求的是什么，得到了什么\n",
    "        seek的类型属于下面的BaseSeekDay\n",
    "        :param seek:\n",
    "        :return:\n",
    "        \"\"\"\n",
    "        living_consumption, happiness, wealth, fame = seek.do_seek_day()#调用每个独特BaseSeekDay都会实现的do_seek_day得到今天收获\n",
    "        self.living -= living_consumption     #每天减去生命消耗\n",
    "        self.happiness += happiness       #通过seek得到的幸福指数积累\n",
    "        self.wealth += wealth             #通过seek得到的财富指数积累\n",
    "        self.fame += fame                 #通过seek得到的名望权力积累\n",
    "        self.living_day += 1              #活完了一天\n",
    "\n",
    "class BaseSeekDay(six.with_metaclass(ABCMeta, object)):\n",
    "    def __init__(self):\n",
    "        self.living_consume = 0      #每种追求每天消耗生命的常数\n",
    "        self.happiness_base = 0      #每种追求每天幸福指数的常数\n",
    "        self.wealth_base = 0         #每种追求每天财富积累的常数\n",
    "        self.fame_base = 0           #每种追求每天名望权力积累的常数\n",
    "        self.living_factor = [0]     #每种追求每天消耗生命的可变因素序列\n",
    "        self.happiness_factor = [0]  #每种追求每天幸福指数的可变因素序列\n",
    "        self.wealth_factor = [0]     #每种追求每天追求财富积累的可变因素序列\n",
    "        self.fame_factor = [0]       #每种追求每天追求名望权力的可变因素序列\n",
    "        self.do_seek_day_cnt = 0     #一生追求了多少天了\n",
    "        self._init_self()            \n",
    "    @abstractmethod\n",
    "    def _init_self(self, *args, **kwargs):       #子类必须实现，设置生命消耗的常数，幸福指数常数等\n",
    "        pass\n",
    "    @abstractmethod\n",
    "    def _gen_living_days(self, *args, **kwargs):  #子类必须实现，设置可变因素序列\n",
    "        pass\n",
    "    def do_seek_day(self):\n",
    "        \"\"\"\n",
    "        每一天的追求具体seek\n",
    "        \"\"\"\n",
    "        #生命消耗=消耗常数*可变序列\n",
    "        if self.do_seek_day_cnt >= len(self.living_factor):\n",
    "            consume_living = self.living_factor[-1] * self.consume_living #如果超出可变序列的长度，就按最后一个factor来算（递减）\n",
    "        else:\n",
    "            consume_living = self.living_factor[self.do_seek_day_cnt] * self.consume_living\n",
    "        \n",
    "        if self.do_seek_day_cnt >= len(self.happiness_factor):\n",
    "            happiness = self.happiness_factor[-1] * self.happiness_base\n",
    "        else:\n",
    "            happiness = self.happiness_factor[self.do_seek_day_cnt] * self.happiness_base\n",
    "        \n",
    "        if self.do_seek_day_cnt >= len(self.wealth_factor):\n",
    "            wealth = self.wealth_factor[-1] * self.wealth_base\n",
    "        else:\n",
    "            wealth = self.wealth_factor[self.do_seek_day_cnt] * self.wealth_base\n",
    "        \n",
    "        if self.do_seek_day_cnt >= len(self.fame_factor):\n",
    "            fame = self.fame_factor[-1] * self.fame_base\n",
    "        else:\n",
    "            fame = self.fame_factor[self.do_seek_day_cnt] * self.fame_base\n",
    "        \n",
    "        self.do_seek_day_cnt += 1\n",
    "        return consume_living, happiness, wealth, fame\n",
    "    "
   ]
  },
  {
   "cell_type": "code",
   "execution_count": 145,
   "metadata": {},
   "outputs": [],
   "source": [
    "def regular_mm(group):\n",
    "    return (group - group.min()) / (group.max() - group.min())"
   ]
  },
  {
   "cell_type": "code",
   "execution_count": 146,
   "metadata": {},
   "outputs": [],
   "source": [
    "class HealthSeekDay(BaseSeekDay):\n",
    "    def _init_self(self):\n",
    "        self.consume_living = 1\n",
    "        self.happiness_base = 1\n",
    "        self._gen_living_days()\n",
    "    def _gen_living_days(self):\n",
    "        days = np.arange(1,12000)\n",
    "        living_days = np.sqrt(days)\n",
    "        self.living_factor = regular_mm(living_days) * 2 - 1\n",
    "        self.happiness_factor = regular_mm(days)[::-1]"
   ]
  },
  {
   "cell_type": "code",
   "execution_count": 147,
   "metadata": {},
   "outputs": [
    {
     "name": "stdout",
     "output_type": "stream",
     "text": [
      "只追求健康长寿快乐活了97.12年，幸福指数5999.5,积累财富0,名望权力0\n"
     ]
    }
   ],
   "source": [
    "me = Person()\n",
    "seek_health = HealthSeekDay()\n",
    "while me.living > 0:\n",
    "    me.live_one_day(seek_health)\n",
    "print('只追求健康长寿快乐活了{}年，幸福指数{},积累财富{},名望权力{}'.format(round(me.living_day / 365, 2), round(me.happiness, 2), me.wealth, me.fame))"
   ]
  },
  {
   "cell_type": "code",
   "execution_count": 148,
   "metadata": {},
   "outputs": [],
   "source": [
    "class StockSeekDay(BaseSeekDay):\n",
    "    def _init_self(self, show = False):\n",
    "        self.consume_living = 2\n",
    "        self.happiness_base = 0.5\n",
    "        self.wealth_base = 10\n",
    "        self._gen_living_days()\n",
    "    def _gen_living_days(self):\n",
    "        days = np.arange(1, 10000)\n",
    "        living_days = np.sqrt(days)\n",
    "        self.living_factor = regular_mm(living_days)\n",
    "        happiness_days = np.power(days, 4)\n",
    "        self.happiness_factor = regular_mm(happiness_days)[::-1]\n",
    "        self.wealth_factor = self.living_factor"
   ]
  },
  {
   "cell_type": "code",
   "execution_count": 149,
   "metadata": {},
   "outputs": [
    {
     "name": "stdout",
     "output_type": "stream",
     "text": [
      "只追求财富活了46.72年，幸福指数1000.15,积累财富136878.35,名望权力0\n"
     ]
    }
   ],
   "source": [
    "me = Person()\n",
    "seek_stock = StockSeekDay()\n",
    "while me.living > 0:\n",
    "    me.live_one_day(seek_stock)\n",
    "print('只追求财富活了{}年，幸福指数{},积累财富{},名望权力{}'.format(round(me.living_day / 365, 2), round(me.happiness, 2), round(me.wealth,2), me.fame))"
   ]
  },
  {
   "cell_type": "code",
   "execution_count": 150,
   "metadata": {},
   "outputs": [],
   "source": [
    "class FameSeekDay(BaseSeekDay):\n",
    "    def _init_self(self):\n",
    "        self.consume_living = 3\n",
    "        self.happiness_base = 0.6\n",
    "        self.fame_base = 10\n",
    "        self._gen_living_days()\n",
    "    def _gen_living_days(self):\n",
    "        days = np.arange(1,12000)\n",
    "        living_days = np.sqrt(days)\n",
    "        self.living_factor = regular_mm(living_days)\n",
    "        happiness_days = np.power(days,2)\n",
    "        self.happiness_factor = regular_mm(happiness_days)[::-1]\n",
    "        self.fame_factor = self.living_factor"
   ]
  },
  {
   "cell_type": "code",
   "execution_count": 151,
   "metadata": {},
   "outputs": [
    {
     "name": "stdout",
     "output_type": "stream",
     "text": [
      "只追求名望权力活了36.06年，幸福指数2400.1,积累财富0,名望权力91259.86\n"
     ]
    }
   ],
   "source": [
    "me = Person()\n",
    "seek_fame = FameSeekDay()\n",
    "while me.living > 0:\n",
    "    me.live_one_day(seek_fame)\n",
    "print('只追求名望权力活了{}年，幸福指数{},积累财富{},名望权力{}'.format(round(me.living_day / 365, 2), round(me.happiness, 2), round(me.wealth,2), round(me.fame,2)))"
   ]
  },
  {
   "cell_type": "code",
   "execution_count": 152,
   "metadata": {},
   "outputs": [],
   "source": [
    "def my_life(weights):\n",
    "    seek_health = HealthSeekDay()\n",
    "    seek_stock = StockSeekDay()\n",
    "    seek_fame = FameSeekDay()\n",
    "    seek_list = [seek_health, seek_stock, seek_fame]\n",
    "    me = Person()\n",
    "    seek_choice = np.random.choice([0, 1, 2], 80000, p=weights)\n",
    "    while me.living > 0:\n",
    "        seek_ind = seek_choice[me.living_day]\n",
    "        seek = seek_list[seek_ind]\n",
    "        me.live_one_day(seek)\n",
    "    return round(me.living_day / 365, 2), round(me.happiness, 2), round(me.wealth, 2), round(me.fame, 2)"
   ]
  },
  {
   "cell_type": "code",
   "execution_count": 153,
   "metadata": {},
   "outputs": [
    {
     "name": "stdout",
     "output_type": "stream",
     "text": [
      "活了77.03年，幸福指数9314.39，积累财富51185.24，名望权力46191.54\n"
     ]
    }
   ],
   "source": [
    "living_day, happiness, wealth, fame = my_life([0.4, 0.3, 0.3])\n",
    "print('活了{}年，幸福指数{}，积累财富{}，名望权力{}'.format(living_day, happiness, wealth, fame))"
   ]
  },
  {
   "cell_type": "code",
   "execution_count": 154,
   "metadata": {},
   "outputs": [],
   "source": [
    "result = []\n",
    "for _ in range (2000):\n",
    "    weights = np.random.random(3)\n",
    "    weights /= np.sum(weights)\n",
    "    result.append((weights, my_life(weights)))"
   ]
  },
  {
   "cell_type": "code",
   "execution_count": 156,
   "metadata": {},
   "outputs": [
    {
     "name": "stdout",
     "output_type": "stream",
     "text": [
      "活了75.78年，幸福指数9371.97，积累财富29766.41，名望权力58202.7\n"
     ]
    }
   ],
   "source": [
    "sorted_scores = sorted(result, key=lambda x:x[1][1], reverse=True)\n",
    "living_day, happiness, wealth, fame = my_life(sorted_scores[0][0])\n",
    "print('活了{}年，幸福指数{}，积累财富{}，名望权力{}'.format(living_day, happiness, wealth, fame))"
   ]
  },
  {
   "cell_type": "code",
   "execution_count": null,
   "metadata": {},
   "outputs": [],
   "source": []
  },
  {
   "cell_type": "code",
   "execution_count": null,
   "metadata": {},
   "outputs": [],
   "source": []
  },
  {
   "cell_type": "code",
   "execution_count": null,
   "metadata": {},
   "outputs": [],
   "source": []
  }
 ],
 "metadata": {
  "kernelspec": {
   "display_name": "Python 3",
   "language": "python",
   "name": "python3"
  },
  "language_info": {
   "codemirror_mode": {
    "name": "ipython",
    "version": 3
   },
   "file_extension": ".py",
   "mimetype": "text/x-python",
   "name": "python",
   "nbconvert_exporter": "python",
   "pygments_lexer": "ipython3",
   "version": "3.7.4"
  }
 },
 "nbformat": 4,
 "nbformat_minor": 2
}
